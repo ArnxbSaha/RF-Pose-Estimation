{
  "nbformat": 4,
  "nbformat_minor": 0,
  "metadata": {
    "colab": {
      "provenance": []
    },
    "kernelspec": {
      "name": "python3",
      "display_name": "Python 3"
    },
    "language_info": {
      "name": "python"
    },
    "accelerator": "GPU",
    "gpuClass": "standard"
  },
  "cells": [
    {
      "cell_type": "code",
      "source": [
        "#using Savitzky–Golay filter (more harsh filtering)\n",
        "\n",
        "import numpy as np\n",
        "import os\n",
        "from scipy.signal import savgol_filter\n",
        "\n",
        "# Load the .npy files into Python\n",
        "data_folder = '/content/drive/MyDrive/I2I_RF_POSE/Car /PU/'\n",
        "store_folder = '/content/drive/MyDrive/I2I_RF_POSE/Car_Denoised/PU/'\n",
        "\n",
        "frames = []\n",
        "for i in range(0,1799):\n",
        "    filename = os.path.join(data_folder, f'Max{i:04d}.npy')\n",
        "    frame = np.load(filename)\n",
        "    frames.append(frame)\n",
        "\n",
        "\n",
        "for i, frame in enumerate(frames):\n",
        "    filtered = savgol_filter(frame, 8, 2)\n",
        "    frames[i] = filtered\n",
        "\n",
        "# Save the denoised frames as new .npy files\n",
        "for i, frame in enumerate(frames):\n",
        "    filename = os.path.join(store_folder, f'Max{i:04d}.npy')\n",
        "    np.save(filename, frame)\n",
        "\n"
      ],
      "metadata": {
        "id": "7rEIrO_p9LX1",
        "colab": {
          "base_uri": "https://localhost:8080/"
        },
        "outputId": "f6bc00c3-c477-4c65-85a7-8aa11e67ad77"
      },
      "execution_count": null,
      "outputs": [
        {
          "output_type": "stream",
          "name": "stderr",
          "text": [
            "/usr/local/lib/python3.9/dist-packages/scipy/signal/_savitzky_golay.py:339: ComplexWarning: Casting complex values to real discards the imaginary part\n",
            "  x = x.astype(np.float64)\n"
          ]
        }
      ]
    },
    {
      "cell_type": "code",
      "source": [
        "import os\n",
        "\n",
        "# Define the paths of the three .bin files\n",
        "part1_path = \"/content/drive/MyDrive/I2I_RF_POSE/adc_data_m_lb_0.bin\"\n",
        "part2_path = \"/content/drive/MyDrive/I2I_RF_POSE/adc_data_m_lb_1.bin\"\n",
        "part3_path = \"/content/drive/MyDrive/I2I_RF_POSE/adc_data_m_lb_2.bin\"\n",
        "\n",
        "# Define the output path for the concatenated file\n",
        "output_path = \"/content/drive/MyDrive/I2I_RF_POSE/adc_data_m_lb.bin\"\n",
        "\n",
        "output_dir = os.path.dirname(output_path)\n",
        "if not os.path.exists(output_dir):\n",
        "    os.makedirs(output_dir)\n",
        "\n",
        "# Open the output file for writing\n",
        "with open(output_path, \"wb\") as outfile:\n",
        "    \n",
        "    # Open the first file for reading and copy its contents to the output file\n",
        "    with open(part1_path, \"rb\") as part1_file:\n",
        "        outfile.write(part1_file.read())\n",
        "\n",
        "    # Open the second file for reading and copy its contents to the output file\n",
        "    with open(part2_path, \"rb\") as part2_file:\n",
        "        outfile.write(part2_file.read())\n",
        "\n",
        "    # Open the third file for reading and copy its contents to the output file\n",
        "    with open(part3_path, \"rb\") as part3_file:\n",
        "        outfile.write(part3_file.read())\n",
        "\n",
        "# Verify that the output file is the expected size\n",
        "expected_size = os.path.getsize(part1_path) + os.path.getsize(part2_path) + os.path.getsize(part3_path)\n",
        "actual_size = os.path.getsize(output_path)\n",
        "if actual_size != expected_size:\n",
        "    print(f\"Error: Output file size ({actual_size}) does not match expected size ({expected_size})\")\n",
        "else:\n",
        "    print(\"Concatenation successful!\")\n"
      ],
      "metadata": {
        "colab": {
          "base_uri": "https://localhost:8080/"
        },
        "id": "Y29nJka4p8yH",
        "outputId": "97643a20-a71b-43d1-a7f0-2e5389dd4d80"
      },
      "execution_count": null,
      "outputs": [
        {
          "output_type": "stream",
          "name": "stdout",
          "text": [
            "Concatenation successful!\n"
          ]
        }
      ]
    }
  ]
}